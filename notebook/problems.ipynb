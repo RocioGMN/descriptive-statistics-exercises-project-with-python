{
    "cells": [
        {
            "cell_type": "markdown",
            "id": "ac622319",
            "metadata": {},
            "source": [
                "# Descriptive statistics problems"
            ]
        },
        {
            "cell_type": "markdown",
            "id": "5e0ab0d5",
            "metadata": {},
            "source": [
                "### Exercise 1\n",
                "\n",
                "We will use NumPy to obtain information to describe statistically.\n",
                "\n",
                "- Generate an array of 100 elements following a normal distribution.\n",
                "- Generate an array of 100 elements following a chi-square distribution with 3 degrees of freedom.\n",
                "- Calculate the main metrics and statistical measures that best describe the two vectors."
            ]
        },
        {
            "cell_type": "code",
            "execution_count": 1,
            "id": "34720ab6",
            "metadata": {},
            "outputs": [],
            "source": [
                "# TODO\n",
                "import numpy as np\n",
                "import statistics as stats\n",
                "from scipy.stats import skew, kurtosis\n",
                "\n",
                "normal_d = np.random.normal(size = 100)\n",
                "chi_square = np.random.chisquare(3, 100)\n",
                "\n",
                "# print(f\"{normal_d = } \\n{chi_square = }\")\n",
                "\n",
                "# Mean\n",
                "print(f\"{stats.mean(normal_d) = } \\n{stats.mean(chi_square) = }\\n\")\n",
                "\n",
                "# Median\n",
                "print(f\"{stats.median(normal_d) = } \\n{stats.median(chi_square) = }\\n\")\n",
                "\n",
                "# Mode\n",
                "print(f\"{stats.mode(normal_d) = } \\n{stats.mode(chi_square) = }\\n\")\n",
                "\n",
                "# Range\n",
                "range_normal_d = max(normal_d) - min(normal_d)\n",
                "range_chi_square = max(chi_square) - min(chi_square)\n",
                "print(f\"{range_normal_d = } \\n{range_chi_square = }\\n\")\n",
                "\n",
                "# Variance\n",
                "print(f\"{stats.variance(normal_d) = } \\n{stats.variance(chi_square) = }\\n\")\n",
                "print(f\"{stats.stdev(normal_d) = } \\n{stats.stdev(chi_square) = }\\n\")\n",
                "\n",
                "# Skewness\n",
                "print(f\"{skew(normal_d) = } \\n{skew(chi_square) = }\\n\")\n",
                "\n",
                "# Kurtosis\n",
                "print(f\"{kurtosis(normal_d) = } \\n{kurtosis(chi_square) = }\\n\")"
            ]
        },
        {
            "cell_type": "markdown",
            "id": "46c70c3d",
            "metadata": {},
            "source": [
                "### Exercise 2\n",
                "\n",
                "Write a Python program to calculate the standard deviation of the following data:\n",
                "\n",
                "```py\n",
                "data = [4, 2, 5, 8, 6]\n",
                "```"
            ]
        },
        {
            "cell_type": "code",
            "execution_count": 2,
            "id": "d590308e",
            "metadata": {},
            "outputs": [],
            "source": [
                "# TODO\n",
                "import numpy as np\n",
                "import math\n",
                "\n",
                "data = np.array([4,2,5,8,6])\n",
                "\n",
                "def get_sd(data):\n",
                "    n = len(data)\n",
                "    \n",
                "    if (n <= 1):\n",
                "        return 0.0\n",
                "    \n",
                "    mean_data, sd = data.mean(), 0.0\n",
                "    \n",
                "    for i in data:\n",
                "        sd += (float(i) - mean_data) ** 2\n",
                "    sd = math.sqrt(sd / float(n - 1))\n",
                "    \n",
                "    return sd\n",
                "sd_data = get_sd(data)\n",
                "\n",
                "print(f\"{data = }, {sd_data = }\")"
            ]
        },
        {
            "cell_type": "code",
            "execution_count": 5,
            "id": "9500c762",
            "metadata": {},
            "outputs": [
                {
                    "name": "stdout",
                    "output_type": "stream",
                    "text": [
                        "2.23606797749979\n",
                        "2.0\n"
                    ]
                }
            ],
            "source": [
                "data = [4, 2, 5, 8, 6]\n",
                "desviacion_muestral = np.std(data, ddof=1)\n",
                "desviacion_poblacional = np.std(data)\n",
                "\n",
                "print(desviacion_muestral)\n",
                "print(desviacion_poblacional)"
            ]
        }
    ],
    "metadata": {
        "interpreter": {
            "hash": "9248718ffe6ce6938b217e69dbcc175ea21f4c6b28a317e96c05334edae734bb"
        },
        "kernelspec": {
            "display_name": "Python 3.9.12 ('ML-BOOTCAMP')",
            "language": "python",
            "name": "python3"
        },
        "language_info": {
            "codemirror_mode": {
                "name": "ipython",
                "version": 3
            },
            "file_extension": ".py",
            "mimetype": "text/x-python",
            "name": "python",
            "nbconvert_exporter": "python",
            "pygments_lexer": "ipython3",
            "version": "3.12.3"
        }
    },
    "nbformat": 4,
    "nbformat_minor": 5
}
